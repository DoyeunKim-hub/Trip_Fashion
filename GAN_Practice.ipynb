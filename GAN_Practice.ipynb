{
 "cells": [
  {
   "cell_type": "code",
   "execution_count": 1,
   "metadata": {
    "scrolled": true
   },
   "outputs": [
    {
     "name": "stdout",
     "output_type": "stream",
     "text": [
      "Downloading http://yann.lecun.com/exdb/mnist/train-images-idx3-ubyte.gz to data\\MNIST\\raw\\train-images-idx3-ubyte.gz\n"
     ]
    },
    {
     "data": {
      "application/vnd.jupyter.widget-view+json": {
       "model_id": "9ff01ba9d6184480a94fc043551691fe",
       "version_major": 2,
       "version_minor": 0
      },
      "text/plain": [
       "HBox(children=(IntProgress(value=1, bar_style='info', max=1), HTML(value='')))"
      ]
     },
     "metadata": {},
     "output_type": "display_data"
    },
    {
     "name": "stdout",
     "output_type": "stream",
     "text": [
      "Extracting data\\MNIST\\raw\\train-images-idx3-ubyte.gz to data\\MNIST\\raw\n",
      "Downloading http://yann.lecun.com/exdb/mnist/train-labels-idx1-ubyte.gz to data\\MNIST\\raw\\train-labels-idx1-ubyte.gz\n"
     ]
    },
    {
     "data": {
      "application/vnd.jupyter.widget-view+json": {
       "model_id": "9663e5222d294c749d211a6887668f4d",
       "version_major": 2,
       "version_minor": 0
      },
      "text/plain": [
       "HBox(children=(IntProgress(value=1, bar_style='info', max=1), HTML(value='')))"
      ]
     },
     "metadata": {},
     "output_type": "display_data"
    },
    {
     "name": "stdout",
     "output_type": "stream",
     "text": [
      "Extracting data\\MNIST\\raw\\train-labels-idx1-ubyte.gz to data\\MNIST\\raw\n",
      "Downloading http://yann.lecun.com/exdb/mnist/t10k-images-idx3-ubyte.gz to data\\MNIST\\raw\\t10k-images-idx3-ubyte.gz\n"
     ]
    },
    {
     "data": {
      "application/vnd.jupyter.widget-view+json": {
       "model_id": "db13162d610f4c49a8d17dda10ac83ef",
       "version_major": 2,
       "version_minor": 0
      },
      "text/plain": [
       "HBox(children=(IntProgress(value=1, bar_style='info', max=1), HTML(value='')))"
      ]
     },
     "metadata": {},
     "output_type": "display_data"
    },
    {
     "name": "stdout",
     "output_type": "stream",
     "text": [
      "Extracting data\\MNIST\\raw\\t10k-images-idx3-ubyte.gz to data\\MNIST\\raw\n",
      "Downloading http://yann.lecun.com/exdb/mnist/t10k-labels-idx1-ubyte.gz to data\\MNIST\\raw\\t10k-labels-idx1-ubyte.gz\n"
     ]
    },
    {
     "data": {
      "application/vnd.jupyter.widget-view+json": {
       "model_id": "27cc184c527540518e958a410367a475",
       "version_major": 2,
       "version_minor": 0
      },
      "text/plain": [
       "HBox(children=(IntProgress(value=1, bar_style='info', max=1), HTML(value='')))"
      ]
     },
     "metadata": {},
     "output_type": "display_data"
    },
    {
     "name": "stdout",
     "output_type": "stream",
     "text": [
      "Extracting data\\MNIST\\raw\\t10k-labels-idx1-ubyte.gz to data\\MNIST\\raw\n",
      "Processing...\n",
      "\n",
      "Done!\n",
      "\n",
      "\n"
     ]
    }
   ],
   "source": [
    "# <코드1> 라이브러리 및 데이터 불러오기\n",
    "import torch #pip install torch===1.4.0 torchvision===0.5.0 -f https://download.pytorch.org/whl/torch_stable.html\n",
    "import torch.nn as nn\n",
    "from torch.optim import Adam\n",
    "from torchvision import datasets, transforms\n",
    "from torch.utils.data import DataLoader\n",
    "from torch.autograd import Variable\n",
    "\n",
    "#데이터 전처리 방식을 지정한다.\n",
    "transform = transforms.Compose([\n",
    "  transforms.ToTensor(), # 데이터를 파이토치의 Tensor 형식으로바꾼다.\n",
    "  transforms.Normalize(mean=(0.5,), std=(0.5,)) # 픽셀값 0 ~ 1 -> -1 ~ 1\n",
    "])\n",
    "\n",
    "#MNIST 데이터셋을 불러온다. 지정한 폴더에 없을 경우 자동으로 다운로드한다.\n",
    "mnist =datasets.MNIST(root='data', download=True, transform=transform)\n",
    "\n",
    "#데이터를 한번에 batch_size만큼만 가져오는 dataloader를 만든다.\n",
    "dataloader =DataLoader(mnist, batch_size=60, shuffle=True)"
   ]
  },
  {
   "cell_type": "code",
   "execution_count": 7,
   "metadata": {},
   "outputs": [],
   "source": [
    "# <코드2> GAN의 생성자(Generator)\n",
    "\n",
    "# 생성자는 랜덤 벡터 z를 입력으로 받아 가짜 이미지를 출력한다.\n",
    "class Generator(nn.Module):\n",
    "\n",
    "  # 네트워크 구조\n",
    "    def __init__(self):\n",
    "      super(Generator, self).__init__()\n",
    "      self.main = nn.Sequential(\n",
    "        nn.Linear(in_features=100, out_features=256),\n",
    "        nn.LeakyReLU(0.2, inplace=True),\n",
    "        nn.Linear(in_features=256, out_features=512),\n",
    "        nn.LeakyReLU(0.2, inplace=True),\n",
    "        nn.Linear(in_features=512, out_features=1024),\n",
    "        nn.LeakyReLU(0.2, inplace=True),\n",
    "        nn.Linear(in_features=1024, out_features=28*28),\n",
    "        nn.Tanh())\n",
    "    \n",
    "  # (batch_size x 100) 크기의 랜덤 벡터를 받아 \n",
    "  # 이미지를 (batch_size x 1 x 28 x 28) 크기로 출력한다.\n",
    "    def forward(self, inputs):\n",
    "      return self.main(inputs).view(-1, 1, 28, 28)"
   ]
  },
  {
   "cell_type": "code",
   "execution_count": 11,
   "metadata": {},
   "outputs": [],
   "source": [
    "# <코드3> GAN의 구분자(Discriminator)\n",
    "\n",
    "# 구분자는 이미지를 입력으로 받아 이미지가 진짜인지 가짜인지 출력한다.\n",
    "class Discriminator(nn.Module):\n",
    "    \n",
    "# 네트워크 구조\n",
    "  def __init__(self):\n",
    "    super(Discriminator, self).__init__()\n",
    "    self.main = nn.Sequential(\n",
    "      nn.Linear(in_features=28*28, out_features=1024),\n",
    "      nn.LeakyReLU(0.2, inplace=True),\n",
    "      nn.Dropout(inplace=True),\n",
    "      nn.Linear(in_features=1024, out_features=512),\n",
    "      nn.LeakyReLU(0.2, inplace=True),\n",
    "      nn.Dropout(inplace=True),\n",
    "      nn.Linear(in_features=512, out_features=256),\n",
    "      nn.LeakyReLU(0.2, inplace=True),\n",
    "      nn.Dropout(inplace=True),\n",
    "      nn.Linear(in_features=256, out_features=1),\n",
    "      nn.Sigmoid())\n",
    "    \n",
    "  # (batch_size x 1 x 28 x 28) 크기의 이미지를 받아\n",
    "  # 이미지가 진짜일 확률을 0~1 사이로 출력한다.\n",
    "def forward(self, inputs):\n",
    "    inputs = inputs.view(-1, 28*28)\n",
    "    return self.main(inputs)"
   ]
  },
  {
   "cell_type": "code",
   "execution_count": 12,
   "metadata": {},
   "outputs": [],
   "source": [
    "# <코드4> 생성자와 구분자 객체 만들기\n",
    "\n",
    "G = Generator()\n",
    "D = Discriminator()"
   ]
  },
  {
   "cell_type": "code",
   "execution_count": 13,
   "metadata": {},
   "outputs": [],
   "source": [
    "# <코드5> 손실 함수와 최적화 기법 지정하기\n",
    "\n",
    "# Binary Cross Entropy loss\n",
    "criterion = nn.BCELoss()\n",
    "\n",
    "# 생성자의 매개 변수를 최적화하는 Adam optimizer\n",
    "G_optimizer = Adam(G.parameters(), lr=0.0002, betas=(0.5, 0.999))\n",
    "# 구분자의 매개 변수를 최적화하는 Adam optimizer\n",
    "D_optimizer = Adam(D.parameters(), lr=0.0002, betas=(0.5, 0.999))"
   ]
  },
  {
   "cell_type": "code",
   "execution_count": null,
   "metadata": {},
   "outputs": [],
   "source": [
    "# <코드6> 모델 학습을 위한 반복문\n",
    "\n",
    "# 데이터셋을 100번 돌며 학습한다.\n",
    "for epoch in range(100):\n",
    "\n",
    "  # 한번에 batch_size만큼 데이터를 가져온다.\n",
    "    for real_data, _ in dataloader:\n",
    "      batch_size = real_data.size(0)\n",
    "        \n",
    "  # 데이터를 파이토치의 변수로 변환한다.\n",
    "      real_data = Variable(real_data)\n",
    "      # ...(중략)"
   ]
  },
  {
   "cell_type": "code",
   "execution_count": null,
   "metadata": {},
   "outputs": [],
   "source": [
    "# <코드7> 구분자 학습시키기\n",
    "\n",
    "    # 이미지가 진짜일 때 정답 값은 1이고 가짜일 때는 0이다.\n",
    "    # 정답지에 해당하는 변수를 만든다.\n",
    "    target_real = Variable(torch.ones(batch_size, 1))\n",
    "    target_fake = Variable(torch.zeros(batch_size, 1))\n",
    "\n",
    "    # 진짜 이미지를 구분자에 넣는다.\n",
    "    D_result_from_real = D(real_data)\n",
    "\n",
    "    # 구분자의 출력값이 정답지인 1에서 멀수록 loss가 높아진다.\n",
    "    D_loss_real = criterion(D_result_from_real, target_real)\n",
    "\n",
    "    # 생성자에 입력으로 줄 랜덤 벡터 z를 만든다.\n",
    "    z = Variable(torch.randn((batch_size, 100)))\n",
    "\n",
    "    # 생성자로 가짜 이미지를 생성한다.\n",
    "    fake_data = G(z)\n",
    "\n",
    "    # 생성자가 만든 가짜 이미지를 구분자에 넣는다.\n",
    "    D_result_from_fake = D(fake_data)\n",
    "\n",
    "    # 구분자의 출력값이 정답지인 0에서 멀수록 loss가 높아진다.\n",
    "    D_loss_fake = criterion(D_result_from_fake, target_fake)\n",
    "\n",
    "    # 구분자의 loss는 두 문제에서 계산된 loss의 합이다.\n",
    "    D_loss = D_loss_real + D_loss_fake\n",
    "\n",
    "    # 구분자의 매개 변수의 미분값을 0으로 초기화한다.\n",
    "    D.zero_grad()\n",
    "\n",
    "    # 역전파를 통해 매개 변수의 loss에 대한 미분값을 계산한다.\n",
    "    D_loss.backward()\n",
    "\n",
    "    # 최적화 기법을 이용해 구분자의 매개 변수를 업데이트한다.\n",
    "    D_optimizer.step()"
   ]
  },
  {
   "cell_type": "code",
   "execution_count": null,
   "metadata": {},
   "outputs": [],
   "source": [
    "# <코드8> 생성자 학습시키기\n",
    "\n",
    "    # 생성자에 입력으로 줄 랜덤 벡터 z를 만든다.\n",
    "    z = Variable(torch.randn((batch_size, 100)))\n",
    "    z = z.cuda()\n",
    "\n",
    "    # 생성자로 가짜 이미지를 생성한다.\n",
    "    fake_data = G(z)\n",
    "\n",
    "    # 생성자가 만든 가짜 이미지를 구분자에 넣는다.\n",
    "    D_result_from_fake = D(fake_data)\n",
    "\n",
    "    # 생성자의 입장에서 구분자의 출력값이 1에서 멀수록 loss가 높아진다.\n",
    "    G_loss = criterion(D_result_from_fake, target_real)\n",
    "\n",
    "    # 생성자의 매개 변수의 미분값을 0으로 초기화한다.\n",
    "    G.zero_grad()\n",
    "\n",
    "    # 역전파를 통해 매개 변수의 loss에 대한 미분값을 계산한다.\n",
    "    G_loss.backward()\n",
    "\n",
    "    # 최적화 기법을 이용해 생성자의 매개 변수를 업데이트한다.\n",
    "    G_optimizer.step()"
   ]
  },
  {
   "cell_type": "code",
   "execution_count": null,
   "metadata": {},
   "outputs": [],
   "source": [
    "# <코드9> DCGAN의 생성자\n",
    "\n",
    "class Generator(nn.Module):\n",
    "    \n",
    "  # 네트워크 구조\n",
    "  def __init__(self):\n",
    "    super(Generator, self).__init__()\n",
    "    self.main = nn.Sequential(\n",
    "      nn.ConvTranspose2d(in_channels=100, out_channels=28*8, \n",
    "        kernel_size=7, stride=1, padding=0, \n",
    "        bias=False),\n",
    "      nn.BatchNorm2d(num_features=28*8),\n",
    "      nn.ReLU(inplace=True),\n",
    "      nn.ConvTranspose2d(in_channels=28*8, out_channels=28*4, \n",
    "        kernel_size=4, stride=2, padding=1, \n",
    "        bias=False),\n",
    "      nn.BatchNorm2d(num_features=28*4),\n",
    "      nn.ReLU(True),\n",
    "      nn.ConvTranspose2d(in_channels=28*4, out_channels=1, \n",
    "        kernel_size=4, stride=2, padding=1, \n",
    "        bias=False),\n",
    "      nn.Tanh())\n",
    "        \n",
    "  # (batch_size x 100) 크기의 랜덤 벡터를 받아 \n",
    "  # 이미지를 (batch_size x 1 x 28 x 28) 크기로 출력한다.\n",
    "  def forward(self, inputs):\n",
    "    inputs = inputs.view(-1, 100, 1, 1)\n",
    "    return self.main(inputs)"
   ]
  },
  {
   "cell_type": "code",
   "execution_count": null,
   "metadata": {},
   "outputs": [],
   "source": [
    "# <코드10> DCGAN의 구분자\n",
    "\n",
    "class Discriminator(nn.Module):\n",
    "    \n",
    "  # 네트워크 구조\n",
    "  def __init__(self):\n",
    "    super(Discriminator, self).__init__()\n",
    "    self.main = nn.Sequential(\n",
    "      nn.Conv2d(in_channels=1, out_channels=28*4, \n",
    "        kernel_size=4, stride=2, padding=1, \n",
    "        bias=False),\n",
    "      nn.BatchNorm2d(num_features=28*4),\n",
    "      nn.LeakyReLU(0.2, inplace=True),\n",
    "      nn.Conv2d(in_channels=28*4, out_channels=28*8, \n",
    "        kernel_size=4, stride=2, padding=1, \n",
    "        bias=False),\n",
    "      nn.BatchNorm2d(num_features=28*8),\n",
    "      nn.LeakyReLU(0.2, inplace=True),\n",
    "      nn.Conv2d(in_channels=28*8, out_channels=1, \n",
    "        kernel_size=7, stride=1, padding=0, \n",
    "        bias=False),\n",
    "      nn.Sigmoid())\n",
    "        \n",
    "  # (batch_size x 1 x 28 x 28) 크기의 이미지를 받아\n",
    "  # 이미지가 진짜일 확률을 0~1 사이로 출력한다.\n",
    "  def forward(self, inputs):\n",
    "    o = self.main(inputs)\n",
    "    return o.view(-1, 1)"
   ]
  },
  {
   "cell_type": "code",
   "execution_count": null,
   "metadata": {},
   "outputs": [],
   "source": []
  }
 ],
 "metadata": {
  "kernelspec": {
   "display_name": "Python 3",
   "language": "python",
   "name": "python3"
  },
  "language_info": {
   "codemirror_mode": {
    "name": "ipython",
    "version": 3
   },
   "file_extension": ".py",
   "mimetype": "text/x-python",
   "name": "python",
   "nbconvert_exporter": "python",
   "pygments_lexer": "ipython3",
   "version": "3.7.4"
  }
 },
 "nbformat": 4,
 "nbformat_minor": 2
}
